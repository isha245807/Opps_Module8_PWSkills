{
 "cells": [
  {
   "cell_type": "markdown",
   "id": "d5430011-13fe-4e54-98ef-877b8e5180ca",
   "metadata": {},
   "source": [
    "#  1. What are the five key concepts of Object-Oriented Programming (OOP) in python"
   ]
  },
  {
   "cell_type": "code",
   "execution_count": 5,
   "id": "67c20f0a-623f-4561-bc3e-890c2bf96416",
   "metadata": {},
   "outputs": [],
   "source": [
    "# The five key concepts of Object-Oriented Programming (OOP) in Python are:\n",
    "\n",
    "#1 .  Classes and Objects:\n",
    "# Classes are blueprints for creating objects (instances). They encapsulate data for the object and define behaviors (methods).\n",
    "# Objects are instances of classes that contain actual values.\n",
    "# Encapsulation:\n",
    "\n",
    "# This principle restricts direct access to some of an object's components. It allows the internal representation of an object to be hidden from \n",
    "#the outside, exposing only necessary parts through public methods.\n",
    "\n",
    "#2. Inheritance:\n",
    "# Inheritance allows a new class (derived or child class) to inherit attributes and methods from an existing class (base or parent class). This promotes code reuse and establishes a hierarchy.\n",
    "\n",
    "\n",
    "# 3. Polymorphism:\n",
    "# Polymorphism enables objects of different classes to be treated as objects of a common super class. It allows methods to do different things based on the object it is acting upon, often through method overriding or method overloading.\n",
    "\n",
    "#4. Abstraction:\n",
    "# Abstraction focuses on exposing only the relevant attributes and methods to the user while hiding complex implementation details. This simplifies interaction with objects and reduces complexity."
   ]
  },
  {
   "cell_type": "markdown",
   "id": "1c249ff4-1ac9-4988-b5a6-d170d7169b90",
   "metadata": {},
   "source": [
    "# 2. Write a Python class for a `Car` with attributes for `make`, `model`, and `year`. Include a method to display  the car's informatio"
   ]
  },
  {
   "cell_type": "code",
   "execution_count": 25,
   "id": "a409df50-e6f0-4048-9007-9f899cc6fde1",
   "metadata": {},
   "outputs": [
    {
     "name": "stdout",
     "output_type": "stream",
     "text": [
      "Car details are\n",
      "make:Toyota\n",
      "Moder:Corolla\n",
      "Year:2020\n",
      "\n",
      "\n"
     ]
    }
   ],
   "source": [
    "class Car:\n",
    "    def __init__(self,make,model,year):\n",
    "        self.make=make\n",
    "        self.model=model\n",
    "        self.year=year\n",
    "    def display(self):\n",
    "        print(f\"Car details are\\nmake:{self.make}\\nModer:{self.model}\\nYear:{self.year}\\n\\n\")\n",
    "        \n",
    "\n",
    "objCar=Car(\"Toyota\",\"Corolla\",2020)\n",
    "objCar.display()"
   ]
  },
  {
   "cell_type": "markdown",
   "id": "55196bb9-2933-429e-8c97-781f33baf1f3",
   "metadata": {},
   "source": [
    "# 3.  Explain the difference between instance methods and class methods. Provide an example of each."
   ]
  },
  {
   "cell_type": "code",
   "execution_count": 38,
   "id": "a680b849-9725-49a7-9ad0-0af94cfd28f9",
   "metadata": {},
   "outputs": [
    {
     "name": "stdout",
     "output_type": "stream",
     "text": [
      "Buddy says Woof!\n",
      "\n",
      "\n",
      "Canine\n",
      "\n"
     ]
    }
   ],
   "source": [
    "# In object-oriented programming, particularly in languages like Python, instance methods and class methods serve different purposes and have different \n",
    "#ways of accessing data.\n",
    "\n",
    "# Instance Methods\n",
    "# Definition: Instance methods are functions defined inside a class that operate on an instance of that class. They take self as their first parameter, \n",
    "#which refers to the instance calling the method.\n",
    "# Usage: Instance methods can access and modify the instance's attribute\n",
    "\n",
    "#Exaple \n",
    "class Dog:\n",
    "    def __init__(self, name):\n",
    "        self.name = name\n",
    "\n",
    "    def bark(self):\n",
    "        return f\"{self.name} says Woof!\\n\\n\"\n",
    "\n",
    "# Creating an instance\n",
    "my_dog = Dog(\"Buddy\")\n",
    "print(my_dog.bark())  # Output: Buddy says Woof!\n",
    "\n",
    "#Class Methods\n",
    "# Definition: Class methods are defined using the @classmethod decorator and take cls as their first parameter, which refers to the class itself, \n",
    "# not an instance. They can be called on the class or on instances.\n",
    "# Usage: Class methods are often used for factory methods or methods that modify class-level attributes.\n",
    "\n",
    "#Exaple \n",
    "class Dog:\n",
    "    species = \"Canine\\n\"\n",
    "\n",
    "    @classmethod\n",
    "    def get_species(cls):\n",
    "        return cls.species\n",
    "\n",
    "print(Dog.get_species())  # Output: Canine\n",
    "\n"
   ]
  },
  {
   "cell_type": "markdown",
   "id": "b44414a4-591c-42fb-bde3-806b053aeb4a",
   "metadata": {},
   "source": [
    "#  4. How does Python implement method overloading? Give an example."
   ]
  },
  {
   "cell_type": "code",
   "execution_count": 41,
   "id": "338273ff-039e-47bc-93d2-079da17c93f6",
   "metadata": {},
   "outputs": [
    {
     "name": "stdout",
     "output_type": "stream",
     "text": [
      "8\n",
      "5\n"
     ]
    }
   ],
   "source": [
    "# Python does not support traditional method overloading like some other languages (e.g., Java or C++), \n",
    "# where multiple methods with the same name can exist with different parameter types or counts. Instead, Python achieves similar functionality \n",
    "# through default arguments, variable-length arguments, or using conditional logic within a single method.\n",
    "\n",
    "# Example of Method Overloading with Default Arguments\n",
    "\n",
    "class MathOperations:\n",
    "    def add(self, a, b=0):\n",
    "        return a + b\n",
    "\n",
    "# Creating an instance\n",
    "math_ops = MathOperations()\n",
    "\n",
    "# Calling with two arguments\n",
    "print(math_ops.add(5, 3))  # Output: 8\n",
    "\n",
    "# Calling with one argument\n",
    "print(math_ops.add(5))     # Output: 5\n"
   ]
  },
  {
   "cell_type": "markdown",
   "id": "a25c0a12-0642-4d30-a235-c32c298d0067",
   "metadata": {},
   "source": [
    "# 5. What are the three types of access modifiers in Python? How are they denoted?"
   ]
  },
  {
   "cell_type": "code",
   "execution_count": 90,
   "id": "59c26fc1-9d6d-4862-84ef-5c27cf6b75e5",
   "metadata": {},
   "outputs": [
    {
     "name": "stdout",
     "output_type": "stream",
     "text": [
      "Home1 name is Public House\n",
      "Home2 name is Protected House\n",
      "Home3 name is Private House\n",
      "\n",
      "\n",
      "Home1 name isPublic House\n",
      "Home2 name isProtected House\n",
      "\n"
     ]
    }
   ],
   "source": [
    "# In Python, access modifiers control the visibility and accessibility of class attributes and methods. The three main types of access modifiers are:\n",
    "\n",
    "# 1. Public\n",
    "# Definition: Public members are accessible from outside the class. They are the default access level in Python.\n",
    "# 2. Protected\n",
    "# Definition: Protected members are intended to be accessed within the class and by subclasses. They should not be accessed directly from outside \n",
    "# the class. However, this is more of a convention than a strict rule.\n",
    "# 3. Private\n",
    "# Definition: Private members are only accessible within the class itself and cannot be accessed from outside the class or by subclasses.\n",
    "\n",
    "# All this denoted as below :\n",
    "# Public: No prefix; accessible from anywhere.\n",
    "# Protected: Single underscore (_); intended for internal use and subclasses.\n",
    "# Private: Double underscore (__); accessible only within the class.\n",
    "\n",
    "# Example\n",
    "\n",
    "class Home:\n",
    "    def __init__(self):\n",
    "        self.house1=\"Public House\"# Public\n",
    "        self._house2=\"Protected House\"# Protected\n",
    "        self.__house3=\"Private House\" #Private\n",
    "    def display(self):\n",
    "        print(f\"Home1 name is {self.house1}\\nHome2 name is {self._house2}\\nHome3 name is {self.__house3}\\n\\n\") \n",
    "\n",
    "class Dulicate_Homedetails(Home):\n",
    "    def displayHomeDetails(self):\n",
    "        print(f\"Home1 name is{self.house1}\\nHome2 name is{self._house2}\\n\") # IF try to access house3 will get error\n",
    "\n",
    "subCLassobj=Dulicate_Homedetails()\n",
    "subCLassobj.display()\n",
    "subCLassobj.displayHomeDetails()\n"
   ]
  },
  {
   "cell_type": "markdown",
   "id": "d8277fc3-9a39-4ad6-a7aa-c53c0057f592",
   "metadata": {},
   "source": [
    "# 6.  Describe the five types of inheritance in Python. Provide a simple example of multiple inheritance"
   ]
  },
  {
   "cell_type": "code",
   "execution_count": 107,
   "id": "4c8dbfad-35ea-44a6-8bcc-76a810a7f9ff",
   "metadata": {},
   "outputs": [
    {
     "name": "stdout",
     "output_type": "stream",
     "text": [
      "Its class A\n",
      "Its class B\n",
      "Its class C\n",
      "\n"
     ]
    }
   ],
   "source": [
    "# In Python, inheritance allows a class (the child class) to inherit attributes and methods from another class (the parent class). \n",
    "# There are several types of inheritance:\n",
    "\n",
    "# 1. Single Inheritance\n",
    "# In single inheritance, a child class inherits from one parent class.\n",
    "\n",
    "# 2. Multiple Inheritance\n",
    "# In multiple inheritance, a child class can inherit from more than one parent class. This can lead to complexities, \n",
    "# especially if the parent classes have methods or attributes with the same name.\n",
    "\n",
    "# 3. Multilevel Inheritance\n",
    "# In multilevel inheritance, a child class inherits from a parent class, which in turn inherits from another parent class. This forms a \n",
    "# chain of inheritance.\n",
    "\n",
    "# 4. Hierarchical Inheritance\n",
    "# In hierarchical inheritance, multiple child classes inherit from a single parent class.\n",
    "\n",
    "# 5. Hybrid Inheritance\n",
    "# Hybrid inheritance is a combination of two or more types of inheritance. This can be a mix of multiple, multilevel, and hierarchical inheritance.\n",
    "\n",
    "#Example for Multiple Inheritance \n",
    "\n",
    "class class1:\n",
    "    def __init__(self):\n",
    "        self.string1=\"Its class A\"\n",
    "\n",
    "class class2:\n",
    "    def __init__(self):\n",
    "        self.string2=\"Its class B\"\n",
    "\n",
    "class class3(class1,class2): # Interting from class1 and class2\n",
    "    def __init__(self):\n",
    "        class1.__init__(self)\n",
    "        class2.__init__(self)\n",
    "        self.string3=\"Its class C\"\n",
    "    def display(self): # Display attribure of all the class variables\n",
    "        print(f\"{self.string1}\\n{self.string2}\\n{self.string3}\\n\")\n",
    "\n",
    "clasObj= class3()\n",
    "clasObj.display()"
   ]
  },
  {
   "cell_type": "markdown",
   "id": "65d252fd-ae92-45da-8ce7-d744a714320f",
   "metadata": {},
   "source": [
    "# 7. What is the Method Resolution Order (MRO) in Python? How can you retrieve it programmatically?"
   ]
  },
  {
   "cell_type": "code",
   "execution_count": 118,
   "id": "3af439e1-2c30-4e3c-9e9f-62f592c199d2",
   "metadata": {},
   "outputs": [
    {
     "name": "stdout",
     "output_type": "stream",
     "text": [
      "(<class '__main__.D'>, <class '__main__.B'>, <class '__main__.C'>, <class '__main__.A'>, <class 'object'>)\n",
      "[<class '__main__.B'>, <class '__main__.A'>, <class 'object'>]\n"
     ]
    }
   ],
   "source": [
    "# Method Resolution Order (MRO) in Python defines the order in which base classes are searched when looking for a method or \n",
    "# attribute in a class hierarchy. This is especially important in multiple inheritance scenarios, where a class can inherit from multiple \n",
    "# parent classes.\n",
    "\n",
    "# MRO Rules\n",
    "# Depth-First, Left-to-Right: MRO follows a depth-first search approach, scanning left to right in the class hierarchy.\n",
    "# C3 Linearization: Python uses the C3 linearization algorithm to determine the MRO, ensuring a consistent and predictable order that \n",
    "# respects the inheritance hierarchy.\n",
    "# Example of MRO\n",
    "# Consider the following classes:\n",
    "\n",
    "# Retrieving MRO Programmatically\n",
    "# You can retrieve the MRO of a class using the __mro__ attribute or the mro() method. \n",
    "\n",
    "class A:\n",
    "    pass\n",
    "\n",
    "class B(A):\n",
    "    pass\n",
    "\n",
    "class C(A):\n",
    "    pass\n",
    "\n",
    "class D(B, C):\n",
    "    pass\n",
    "\n",
    "print(D.__mro__)\n",
    "print(B.mro())\n",
    "\n",
    "\n",
    "#The MRO for class D would be: D -> B -> C -> A."
   ]
  },
  {
   "cell_type": "markdown",
   "id": "04bf2815-8cf3-43fd-9468-ffd4b248cdbf",
   "metadata": {},
   "source": [
    "# 8.   Create an abstract base class `Shape` with an abstract method `area()`. Then create two subclasses `Circle` and `Rectangle` that implement the `area()` method."
   ]
  },
  {
   "cell_type": "code",
   "execution_count": 131,
   "id": "5b2212f0-6cc7-4a3a-b9b6-36302960d1b2",
   "metadata": {},
   "outputs": [
    {
     "name": "stdout",
     "output_type": "stream",
     "text": [
      "Area of circle is 50.24\n",
      "Area of Rectangle is 20\n"
     ]
    }
   ],
   "source": [
    "from abc import ABC, abstractmethod\n",
    "\n",
    "class Shape(ABC):\n",
    "    @abstractmethod\n",
    "    def area(self):\n",
    "        pass\n",
    "\n",
    "class Circle(Shape):\n",
    "    def __init__(self,radius):\n",
    "        self.radius=radius\n",
    "        self.pi= 3.14\n",
    "    def area(self):\n",
    "        print(f\"Area of circle is {self.pi*(self.radius**2)}\")\n",
    "class Rectangle(Shape):\n",
    "    def __init__(self,height,width):\n",
    "        self.height=height\n",
    "        self.width=width\n",
    "    def area(self):\n",
    "        print(f\"Area of Rectangle is {self.height*self.width}\")\n",
    "\n",
    "objC =Circle(4)\n",
    "objR =Rectangle(4,5)\n",
    "objC.area()\n",
    "objR.area()\n",
    "        \n",
    "        "
   ]
  },
  {
   "cell_type": "markdown",
   "id": "305d733a-100b-48aa-bdc2-17e2aa64d6af",
   "metadata": {},
   "source": [
    "# 9. Demonstrate polymorphism by creating a function that can work with different shape objects to calculate and print their areas."
   ]
  },
  {
   "cell_type": "code",
   "execution_count": 134,
   "id": "f4a34f52-3564-428c-b4db-e25f6b54dcdc",
   "metadata": {},
   "outputs": [
    {
     "name": "stdout",
     "output_type": "stream",
     "text": [
      "Area: 50.24\n",
      "Area: 20\n"
     ]
    }
   ],
   "source": [
    "# Polymorphism allows functions to use objects of different classes interchangeably, as long as they implement the \n",
    "# same methods. In the context of shapes, you can create a function that takes different shape objects and calculates their areas.\n",
    "\n",
    "# Here's an implementation demonstrating polymorphism with the Shape, Circle, and Rectangle classes:\n",
    "\n",
    "from abc import ABC, abstractmethod\n",
    "\n",
    "class Shape(ABC):\n",
    "    @abstractmethod\n",
    "    def area(self):\n",
    "        pass\n",
    "class Circle(Shape):\n",
    "    def __init__(self, radius):\n",
    "        self.radius = radius\n",
    "        self.pi = 3.14\n",
    "    def area(self):\n",
    "        return self.pi * (self.radius ** 2)\n",
    "class Rectangle(Shape):\n",
    "    def __init__(self, height, width):\n",
    "        self.height = height\n",
    "        self.width = width\n",
    "    def area(self):\n",
    "        return self.height * self.width\n",
    "# Function to calculate and print area\n",
    "def print_area(shape: Shape):\n",
    "    print(f\"Area: {shape.area()}\")\n",
    "# Create instances of Circle and Rectangle\n",
    "circle = Circle(4)\n",
    "rectangle = Rectangle(4, 5)\n",
    "# Demonstrate polymorphism\n",
    "print_area(circle)    # Output: Area: 50.24\n",
    "print_area(rectangle) # Output: Area: 20\n"
   ]
  },
  {
   "cell_type": "markdown",
   "id": "5fe6c470-eeea-44c8-8beb-3b2cd9efe477",
   "metadata": {},
   "source": [
    "# 10.  Implement encapsulation in a `BankAccount` class with private attributes for `balance` and  `account_number`. Include methods for deposit, withdrawal, and balance inquiry"
   ]
  },
  {
   "cell_type": "code",
   "execution_count": 24,
   "id": "d62e3596-4d4b-495f-8de6-fb14e0314590",
   "metadata": {},
   "outputs": [
    {
     "name": "stdout",
     "output_type": "stream",
     "text": [
      "Balance of crediting amount is 1500\n",
      "\n",
      "Account number is: ABC123\n",
      " Bank balance is: 1500\n",
      "\n",
      "Bank balance after dection is 300\n",
      "\n",
      "Account number is: ABC123\n",
      " Bank balance is: 300\n",
      "\n"
     ]
    }
   ],
   "source": [
    "class BankAccount:\n",
    "    def __init__(self,accountNum,balance):\n",
    "        self.accountNum=accountNum\n",
    "        self.balance=balance\n",
    "    def deposite(self,amount):\n",
    "        if amount>0:\n",
    "            self.balance+=amount\n",
    "            print(f\"Balance of crediting amount is {self.balance}\\n\")\n",
    "        else:\n",
    "            print(f\"amount should be more than zero\\n\")\n",
    "    def withdraw(self,amount):\n",
    "        if amount>self.balance:\n",
    "            print(f\"Bank balance is {self.balance}. CAnt withdraw........\\n\")\n",
    "        else:\n",
    "            self.balance-=amount\n",
    "            print(f\"Bank balance after dection is {self.balance}\\n\")\n",
    "    def bankDetails(self):\n",
    "        print(f\"Account number is: {self.accountNum}\\n Bank balance is: {self.balance}\\n\")\n",
    "\n",
    "BkObj =BankAccount(\"ABC123\",1000)\n",
    "BkObj.deposite(500)\n",
    "BkObj.bankDetails()\n",
    "BkObj.withdraw(1200)\n",
    "BkObj.bankDetails()\n"
   ]
  },
  {
   "cell_type": "markdown",
   "id": "c777cd6a-322d-4cf8-84b6-99de81a31860",
   "metadata": {},
   "source": [
    "# 11. Write a class that overrides the `__str__` and `__add__` magic methods. What will these methods allow you to do?"
   ]
  },
  {
   "cell_type": "code",
   "execution_count": 29,
   "id": "536bc35f-24b6-47a8-8e0a-6d49658c28ca",
   "metadata": {},
   "outputs": [
    {
     "name": "stdout",
     "output_type": "stream",
     "text": [
      "Vector(2, 3)\n",
      "Vector(4, 5)\n",
      "Vector(6, 8)\n"
     ]
    }
   ],
   "source": [
    "# __str__ Method:\n",
    "# This method provides a user-friendly string representation of the Vector object. When you use print(v1) or convert the object to a string, \n",
    "# it will display Vector(2, 3) instead of the default representation, which would include the memory address.\n",
    "# __add__ Method:\n",
    "# This method allows you to use the + operator to add two Vector instances together. The __add__ method checks if the other object is also a \n",
    "# Vector, and if so, it returns a new Vector with the sum of the corresponding components. If other is not a Vector, it returns NotImplemented, \n",
    "# allowing Python to handle the error gracefully.\n",
    "# Benefits:\n",
    "# By overriding these magic methods, you enhance the usability of your class. The __str__ method allows for clearer and more informative output, \n",
    "# while the __add__ method enables intuitive arithmetic operations between objects of the class.\n",
    "class Vector:\n",
    "    def __init__(self, x, y):\n",
    "        self.x = x\n",
    "        self.y = y\n",
    "\n",
    "    def __str__(self):\n",
    "        # Custom string representation of the Vector\n",
    "        return f\"Vector({self.x}, {self.y})\"\n",
    "\n",
    "    def __add__(self, other):\n",
    "        # Addition of two Vector instances\n",
    "        if isinstance(other, Vector):\n",
    "            return Vector(self.x + other.x, self.y + other.y)\n",
    "        return NotImplemented\n",
    "\n",
    "# Example usage:\n",
    "if __name__ == \"__main__\":\n",
    "    v1 = Vector(2, 3)\n",
    "    v2 = Vector(4, 5)\n",
    "    \n",
    "    print(v1)             # Outputs: Vector(2, 3)\n",
    "    print(v2)             # Outputs: Vector(4, 5)\n",
    "    \n",
    "    v3 = v1 + v2         # Uses __add__ method\n",
    "    print(v3)            # Outputs: Vector(6, 8)\n",
    "\n",
    "\n"
   ]
  },
  {
   "cell_type": "markdown",
   "id": "aad4bd52-1ba7-4556-9dd7-5e683384d344",
   "metadata": {},
   "source": [
    "# 12. Create a decorator that measures and prints the execution time of a function"
   ]
  },
  {
   "cell_type": "code",
   "execution_count": 33,
   "id": "6bb9df89-e3ba-4f53-a924-409748712071",
   "metadata": {},
   "outputs": [
    {
     "name": "stdout",
     "output_type": "stream",
     "text": [
      "Execution time of sample_function: 0.1649 seconds\n",
      "Result: 499999500000\n"
     ]
    }
   ],
   "source": [
    "import time\n",
    "from functools import wraps\n",
    "\n",
    "def timing_decorator(func):\n",
    "    @wraps(func)  # Preserves the function's metadata\n",
    "    def wrapper(*args, **kwargs):\n",
    "        start_time = time.time()  # Record the start time\n",
    "        result = func(*args, **kwargs)  # Call the original function\n",
    "        end_time = time.time()  # Record the end time\n",
    "        execution_time = end_time - start_time  # Calculate the execution time\n",
    "        print(f\"Execution time of {func.__name__}: {execution_time:.4f} seconds\")\n",
    "        return result  # Return the result of the function\n",
    "    return wrapper\n",
    "\n",
    "# Example usage:\n",
    "@timing_decorator\n",
    "def sample_function(n):\n",
    "    total = 0\n",
    "    for i in range(n):\n",
    "        total += i\n",
    "    return total\n",
    "\n",
    "if __name__ == \"__main__\":\n",
    "    result = sample_function(1000000)\n",
    "    print(f\"Result: {result}\")\n"
   ]
  },
  {
   "cell_type": "markdown",
   "id": "02d4f2b6-95f7-47e1-beaf-99c47907690e",
   "metadata": {},
   "source": [
    "# 3. Explain the concept of the Diamond Problem in multiple inheritance. How does Python resolve it?"
   ]
  },
  {
   "cell_type": "code",
   "execution_count": 38,
   "id": "d951fa31-413e-4dcb-b4d7-989f9c828470",
   "metadata": {},
   "outputs": [
    {
     "name": "stdout",
     "output_type": "stream",
     "text": [
      "Hello from D\n",
      "Hello from B\n",
      "Hello from C\n",
      "Hello from A\n"
     ]
    }
   ],
   "source": [
    "# The Diamond Problem is a common issue in multiple inheritance scenarios, where a class inherits from two classes that both inherit from a\n",
    "# common base class. This creates a diamond-shaped inheritance structure. Here’s a simple illustration:\n",
    "# In this example:\n",
    "\n",
    "# Class D inherits from both B and C.\n",
    "# Both B and C inherit from A.\n",
    "# The problem arises when D needs to call a method from A. The question is: which path should be used to access A? Should it use the method \n",
    "# from B or from C? This ambiguity can lead to confusion and inconsistent behavior.\n",
    "\n",
    "# How Python Resolves the Diamond Problem\n",
    "# Python uses the Method Resolution Order (MRO) to handle the Diamond Problem. The MRO defines the order in which base classes are searched when \n",
    "#     executing a method or accessing an attribute. Python's MRO is determined using the C3 linearization algorithm.\n",
    "\n",
    "# Example: Here's a small example to illustrate how Python resolves the Diamond Problem:\n",
    "\n",
    "class A:\n",
    "    def greet(self):\n",
    "        print(\"Hello from A\")\n",
    "\n",
    "class B(A):\n",
    "    def greet(self):\n",
    "        print(\"Hello from B\")\n",
    "        super().greet()  # Calls A's greet\n",
    "\n",
    "class C(A):\n",
    "    def greet(self):\n",
    "        print(\"Hello from C\")\n",
    "        super().greet()  # Calls A's greet\n",
    "\n",
    "class D(B, C):\n",
    "    def greet(self):\n",
    "        print(\"Hello from D\")\n",
    "        super().greet()  # Follows MRO\n",
    "\n",
    "# Example usage:\n",
    "d = D()\n",
    "d.greet()\n"
   ]
  },
  {
   "cell_type": "code",
   "execution_count": null,
   "id": "67fa9167-8fc8-4e32-aa16-130abc72705f",
   "metadata": {},
   "outputs": [],
   "source": []
  },
  {
   "cell_type": "markdown",
   "id": "053eb916-9d70-468d-a1b3-1dca250b9e1e",
   "metadata": {},
   "source": [
    "# 14. Write a class method that keeps track of the number of instances created from a class."
   ]
  },
  {
   "cell_type": "code",
   "execution_count": 42,
   "id": "04ba8834-cbc8-4627-8dea-924c65c35842",
   "metadata": {},
   "outputs": [
    {
     "name": "stdout",
     "output_type": "stream",
     "text": [
      "Number of instances created: 3\n"
     ]
    }
   ],
   "source": [
    "class InstanceCounter:\n",
    "    instance_count = 0  # Class variable to keep track of the number of instances\n",
    "\n",
    "    def __init__(self):\n",
    "        InstanceCounter.instance_count += 1  # Increment the count when an instance is created\n",
    "\n",
    "    @classmethod\n",
    "    def get_instance_count(cls):\n",
    "        return cls.instance_count  # Return the current instance count\n",
    "\n",
    "# Example usage:\n",
    "if __name__ == \"__main__\":\n",
    "    a = InstanceCounter()\n",
    "    b = InstanceCounter()\n",
    "    c = InstanceCounter()\n",
    "\n",
    "    print(f\"Number of instances created: {InstanceCounter.get_instance_count()}\")  # Outputs: 3\n"
   ]
  },
  {
   "cell_type": "markdown",
   "id": "b543dea2-1eb1-4143-8711-c15598f0f7ea",
   "metadata": {},
   "source": [
    "# 15.  Implement a static method in a class that checks if a given year is a leap year"
   ]
  },
  {
   "cell_type": "code",
   "execution_count": 48,
   "id": "581b3fdd-de10-4d05-b4e7-66c0b7f53471",
   "metadata": {},
   "outputs": [
    {
     "name": "stdout",
     "output_type": "stream",
     "text": [
      "2022 is not a leap year.\n"
     ]
    }
   ],
   "source": [
    "class Year:\n",
    "    @staticmethod\n",
    "    def is_leap_year(year):\n",
    "        \"\"\"Check if a given year is a leap year.\"\"\"\n",
    "        if (year % 4 == 0 and year % 100 != 0) or (year % 400 == 0):\n",
    "            return True\n",
    "        return False\n",
    "\n",
    "# Example usage:\n",
    "if __name__ == \"__main__\":\n",
    "    year_to_check = 2022\n",
    "    if Year.is_leap_year(year_to_check):\n",
    "        print(f\"{year_to_check} is a leap year.\")\n",
    "    else:\n",
    "        print(f\"{year_to_check} is not a leap year.\")\n"
   ]
  },
  {
   "cell_type": "code",
   "execution_count": null,
   "id": "7d1ae20f-cd5d-4dcb-aa1f-ae0d83e10db8",
   "metadata": {},
   "outputs": [],
   "source": []
  }
 ],
 "metadata": {
  "kernelspec": {
   "display_name": "Python 3 (ipykernel)",
   "language": "python",
   "name": "python3"
  },
  "language_info": {
   "codemirror_mode": {
    "name": "ipython",
    "version": 3
   },
   "file_extension": ".py",
   "mimetype": "text/x-python",
   "name": "python",
   "nbconvert_exporter": "python",
   "pygments_lexer": "ipython3",
   "version": "3.12.4"
  }
 },
 "nbformat": 4,
 "nbformat_minor": 5
}
